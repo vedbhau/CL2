{
 "cells": [
  {
   "cell_type": "code",
   "execution_count": 7,
   "id": "94d59e5a",
   "metadata": {},
   "outputs": [
    {
     "name": "stdout",
     "output_type": "stream",
     "text": [
      "Dataset loaded successfully.\n",
      "\n",
      "Sample instances from the dataset:\n",
      "   age  Gender  Family  diet  Lifestyle  cholestrol  heartdisease\n",
      "0    0       0       1     1          3           0             1\n",
      "1    0       1       1     1          3           0             1\n",
      "2    1       0       0     0          2           1             1\n",
      "3    4       0       1     1          3           2             0\n",
      "4    3       1       1     0          0           2             0 \n",
      "\n",
      "Attributes and their datatypes:\n",
      "age             int64\n",
      "Gender          int64\n",
      "Family          int64\n",
      "diet            int64\n",
      "Lifestyle       int64\n",
      "cholestrol      int64\n",
      "heartdisease    int64\n",
      "dtype: object \n",
      "\n",
      "Learning CPD using Maximum Likelihood Estimator...\n",
      "\n",
      "1. Probability of Heart Disease given evidence age=45:\n",
      "+-----------------+---------------------+\n",
      "| heartdisease    |   phi(heartdisease) |\n",
      "+=================+=====================+\n",
      "| heartdisease(0) |              0.5235 |\n",
      "+-----------------+---------------------+\n",
      "| heartdisease(1) |              0.4765 |\n",
      "+-----------------+---------------------+\n",
      "\n",
      "2. Probability of Heart Disease given evidence cholestrol=2:\n",
      "+-----------------+---------------------+\n",
      "| heartdisease    |   phi(heartdisease) |\n",
      "+=================+=====================+\n",
      "| heartdisease(0) |              0.5072 |\n",
      "+-----------------+---------------------+\n",
      "| heartdisease(1) |              0.4928 |\n",
      "+-----------------+---------------------+\n"
     ]
    }
   ],
   "source": [
    "import pandas as pd\n",
    "from pgmpy.estimators import MaximumLikelihoodEstimator\n",
    "from pgmpy.models import BayesianNetwork\n",
    "from pgmpy.inference import VariableElimination\n",
    "\n",
    "# Load the dataset\n",
    "data = pd.read_csv(\"heartdisease-IR.csv\")\n",
    "heart_disease = pd.DataFrame(data)\n",
    "print(\"Dataset loaded successfully.\\n\")\n",
    "\n",
    "# Display sample data and attribute types\n",
    "print(\"Sample instances from the dataset:\")\n",
    "print(heart_disease.head(), \"\\n\")\n",
    "print(\"Attributes and their datatypes:\")\n",
    "print(heart_disease.dtypes, \"\\n\")\n",
    "\n",
    "# Define the structure of the Bayesian Network\n",
    "model = BayesianNetwork([\n",
    "    ('age', 'heartdisease'),\n",
    "    ('Gender', 'heartdisease'),\n",
    "    ('Family', 'heartdisease'),\n",
    "    ('diet', 'heartdisease'),\n",
    "    ('Lifestyle', 'heartdisease'),\n",
    "    ('cholestrol', 'heartdisease'),\n",
    "])\n",
    "\n",
    "# Learning the CPD using Maximum Likelihood Estimator\n",
    "print(\"Learning CPD using Maximum Likelihood Estimator...\")\n",
    "model.fit(heart_disease, estimator=MaximumLikelihoodEstimator)\n",
    "\n",
    "# Performing inference\n",
    "HeartDisease_infer = VariableElimination(model)\n",
    "\n",
    "# Query 1: Probability of Heart Disease given age = 45\n",
    "print(\"\\n1. Probability of Heart Disease given evidence age=45:\")\n",
    "q1 = HeartDisease_infer.query(variables=['heartdisease'], evidence={'age': 3})\n",
    "print(q1)\n",
    "\n",
    "# Query 2: Probability of Heart Disease given cholestrol = 2\n",
    "print(\"\\n2. Probability of Heart Disease given evidence cholestrol=2:\")\n",
    "q2 = HeartDisease_infer.query(variables=['heartdisease'], evidence={'cholestrol': 2})\n",
    "print(q2)"
   ]
  },
  {
   "cell_type": "code",
   "execution_count": null,
   "id": "da6dcc82",
   "metadata": {},
   "outputs": [],
   "source": [
    "\n",
    "    "
   ]
  }
 ],
 "metadata": {
  "kernelspec": {
   "display_name": "Python 3 (ipykernel)",
   "language": "python",
   "name": "python3"
  },
  "language_info": {
   "codemirror_mode": {
    "name": "ipython",
    "version": 3
   },
   "file_extension": ".py",
   "mimetype": "text/x-python",
   "name": "python",
   "nbconvert_exporter": "python",
   "pygments_lexer": "ipython3",
   "version": "3.9.13"
  },
  "varInspector": {
   "cols": {
    "lenName": 16,
    "lenType": 16,
    "lenVar": 40
   },
   "kernels_config": {
    "python": {
     "delete_cmd_postfix": "",
     "delete_cmd_prefix": "del ",
     "library": "var_list.py",
     "varRefreshCmd": "print(var_dic_list())"
    },
    "r": {
     "delete_cmd_postfix": ") ",
     "delete_cmd_prefix": "rm(",
     "library": "var_list.r",
     "varRefreshCmd": "cat(var_dic_list()) "
    }
   },
   "types_to_exclude": [
    "module",
    "function",
    "builtin_function_or_method",
    "instance",
    "_Feature"
   ],
   "window_display": false
  }
 },
 "nbformat": 4,
 "nbformat_minor": 5
}
