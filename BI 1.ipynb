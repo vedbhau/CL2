{
 "cells": [
  {
   "cell_type": "code",
   "execution_count": 4,
   "id": "2fe24c48",
   "metadata": {},
   "outputs": [
    {
     "data": {
      "text/plain": [
       "[[0, 20]]"
      ]
     },
     "execution_count": 4,
     "metadata": {},
     "output_type": "execute_result"
    }
   ],
   "source": [
    "dna_seq = open(r\"dna_sequence.txt\").read().strip()\n",
    "dna_seq\n",
    "\n",
    "\n",
    "\n",
    "# GC content\n",
    "count_g = dna_seq.count('G')\n",
    "count_c = dna_seq.count('C')\n",
    "\n",
    "GC_content = ((count_c+count_g)/len(dna_seq))*100\n",
    "\n",
    "GC_content\n",
    "\n",
    "\n",
    "\n",
    "\n",
    "\n",
    "# Motif positions\n",
    "# A DNA motif is a short, recurring pattern in DNA that is believed to have a biological function.\n",
    "modif = \"CGT\"\n",
    "modif_positions = list()\n",
    "\n",
    "for i in range(0,len(dna_seq)):\n",
    "    if dna_seq[i:i+3] == modif:\n",
    "        modif_positions.append(i)\n",
    "\n",
    "modif_positions\n",
    "\n",
    "\n",
    "\n",
    "\n",
    "\n",
    "\n",
    "# Identifying Coding Regions\n",
    "# The coding region of DNA, also known as the coding sequence, is the part of a gene's DNA that contains the instructions for making a protein\n",
    "start = \"ATG\"\n",
    "stop = [\"TAA\", \"TAG\", \"TGA\"]\n",
    "\n",
    "regions = []\n",
    "\n",
    "for i in range(len(dna_seq)):\n",
    "    pos = []\n",
    "    if dna_seq[i:i+3] == start:\n",
    "        pos.append(i)\n",
    "        for j in range(i+3,len(dna_seq)):\n",
    "            if dna_seq[j:j+3] in stop:\n",
    "                pos.append(j)\n",
    "                regions.append(pos)\n",
    "                break\n",
    "\n",
    "regions\n",
    "\n",
    "\n",
    "\n",
    "\n"
   ]
  },
  {
   "cell_type": "code",
   "execution_count": null,
   "id": "5bb7bad2",
   "metadata": {},
   "outputs": [],
   "source": []
  }
 ],
 "metadata": {
  "kernelspec": {
   "display_name": "Python 3 (ipykernel)",
   "language": "python",
   "name": "python3"
  },
  "language_info": {
   "codemirror_mode": {
    "name": "ipython",
    "version": 3
   },
   "file_extension": ".py",
   "mimetype": "text/x-python",
   "name": "python",
   "nbconvert_exporter": "python",
   "pygments_lexer": "ipython3",
   "version": "3.9.13"
  },
  "varInspector": {
   "cols": {
    "lenName": 16,
    "lenType": 16,
    "lenVar": 40
   },
   "kernels_config": {
    "python": {
     "delete_cmd_postfix": "",
     "delete_cmd_prefix": "del ",
     "library": "var_list.py",
     "varRefreshCmd": "print(var_dic_list())"
    },
    "r": {
     "delete_cmd_postfix": ") ",
     "delete_cmd_prefix": "rm(",
     "library": "var_list.r",
     "varRefreshCmd": "cat(var_dic_list()) "
    }
   },
   "types_to_exclude": [
    "module",
    "function",
    "builtin_function_or_method",
    "instance",
    "_Feature"
   ],
   "window_display": false
  }
 },
 "nbformat": 4,
 "nbformat_minor": 5
}
