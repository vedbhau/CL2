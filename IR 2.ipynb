{
 "cells": [
  {
   "cell_type": "code",
   "execution_count": 2,
   "id": "942bd958",
   "metadata": {},
   "outputs": [
    {
     "name": "stdout",
     "output_type": "stream",
     "text": [
      "Matching documents for query: document contains text\n",
      "Document 1 : This is the first document. It contains some text.\n",
      "Document 2 : The second document is longer. It also contains some text.\n",
      "Document 3 : This is the third document. It is different from the first two.\n"
     ]
    }
   ],
   "source": [
    "import re\n",
    "from collections import defaultdict\n",
    "\n",
    "\n",
    "documents = {\n",
    "    1: \"This is the first document. It contains some text.\",\n",
    "    2: \"The second document is longer. It also contains some text.\",\n",
    "    3: \"This is the third document. It is different from the first two.\",\n",
    "}\n",
    "\n",
    "\n",
    "\n",
    "def preprocess_document(doc):\n",
    "    \n",
    "    tokens = re.findall(r'\\w+', doc.lower())\n",
    "    \n",
    "    stop_words = {\"is\", \"the\", \"it\", \"and\", \"some\"}\n",
    "    return [token for token in tokens if token not in stop_words]\n",
    "\n",
    "\n",
    "inverted_index = defaultdict(list)\n",
    "for doc_id, doc_text in documents.items():\n",
    "    tokens = preprocess_document(doc_text)\n",
    "    for token in tokens:\n",
    "        inverted_index[token].append(doc_id)\n",
    "        \n",
    "        \n",
    "def retrieve_documents(query):\n",
    "    query_tokens = preprocess_document(query)\n",
    "    result = set()\n",
    "    for token in query_tokens:\n",
    "        if token in inverted_index:\n",
    "            result.update(inverted_index[token])\n",
    "    return list(result)\n",
    "\n",
    "\n",
    "query = \"document contains text\"\n",
    "matching_documents = retrieve_documents(query)\n",
    "\n",
    "\n",
    "\n",
    "\n",
    "if matching_documents:\n",
    "    print(\"Matching documents for query:\", query)\n",
    "    for doc_id in matching_documents:\n",
    "        print(\"Document\", doc_id, \":\", documents[doc_id])\n",
    "else:\n",
    "    print(\"No matching documents found.\")\n"
   ]
  },
  {
   "cell_type": "code",
   "execution_count": null,
   "id": "46e4493e",
   "metadata": {},
   "outputs": [],
   "source": []
  },
  {
   "cell_type": "code",
   "execution_count": null,
   "id": "7ef33018",
   "metadata": {},
   "outputs": [],
   "source": []
  }
 ],
 "metadata": {
  "kernelspec": {
   "display_name": "Python 3 (ipykernel)",
   "language": "python",
   "name": "python3"
  },
  "language_info": {
   "codemirror_mode": {
    "name": "ipython",
    "version": 3
   },
   "file_extension": ".py",
   "mimetype": "text/x-python",
   "name": "python",
   "nbconvert_exporter": "python",
   "pygments_lexer": "ipython3",
   "version": "3.9.13"
  },
  "varInspector": {
   "cols": {
    "lenName": 16,
    "lenType": 16,
    "lenVar": 40
   },
   "kernels_config": {
    "python": {
     "delete_cmd_postfix": "",
     "delete_cmd_prefix": "del ",
     "library": "var_list.py",
     "varRefreshCmd": "print(var_dic_list())"
    },
    "r": {
     "delete_cmd_postfix": ") ",
     "delete_cmd_prefix": "rm(",
     "library": "var_list.r",
     "varRefreshCmd": "cat(var_dic_list()) "
    }
   },
   "types_to_exclude": [
    "module",
    "function",
    "builtin_function_or_method",
    "instance",
    "_Feature"
   ],
   "window_display": false
  }
 },
 "nbformat": 4,
 "nbformat_minor": 5
}
